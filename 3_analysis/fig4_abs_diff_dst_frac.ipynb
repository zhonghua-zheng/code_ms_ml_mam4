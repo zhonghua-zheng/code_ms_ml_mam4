{
 "cells": [
  {
   "cell_type": "code",
   "execution_count": 1,
   "metadata": {},
   "outputs": [],
   "source": [
    "import xarray as xr\n",
    "import numpy as np\n",
    "import pandas as pd\n",
    "from tqdm import tqdm\n",
    "import gc\n",
    "import matplotlib.pyplot as plt\n",
    "import numpy.ma as ma\n",
    "import matplotlib.colors as colors\n",
    "\n",
    "# plt.style.use('science')\n",
    "\n",
    "def polyfit(x, y, degree):\n",
    "    results = {}\n",
    "    coeffs = np.polyfit(x, y, degree)\n",
    "     # Polynomial Coefficients\n",
    "    results['polynomial'] = coeffs.tolist()\n",
    "    correlation = np.corrcoef(x, y)[0,1]\n",
    "     # r\n",
    "    results['correlation'] = correlation\n",
    "     # r-squared\n",
    "    results['determination'] = correlation**2\n",
    "\n",
    "    return results"
   ]
  },
  {
   "cell_type": "code",
   "execution_count": 2,
   "metadata": {},
   "outputs": [],
   "source": [
    "chi_ls = [\"chi_b\",\"chi_c\",\"chi_h\"]\n",
    "aero_ls = ['Mass_so4','Mass_bc','Mass_ncl','Mass_dst','Mass_pom','Mass_soa']\n",
    "gas_ls = ['DMS_SRF','H2O2_SRF','H2SO4_SRF','O3_SRF','SO2_SRF','SOAG_SRF']\n",
    "ds_species = xr.open_dataset(\"/data/keeling/a/zzheng25/d/mam4_paper_data/chi_only/aero_gas_species/\"\n",
    "                             +\"2011_aero_and_gas.nc\")\\\n",
    "                             .drop(chi_ls)\n",
    "diff_path = \"/data/keeling/a/zzheng25/d/mam4_paper_data/chi_only/mam4_minus_ml_chi/\"\n",
    "abs_diff_path = \"/data/keeling/a/zzheng25/d/mam4_paper_data/chi_only/mam4_minus_ml_chi/\"\n",
    "mask_path = \"/data/keeling/a/zzheng25/d/mam4_paper_data/chi_only/mask/\""
   ]
  },
  {
   "cell_type": "code",
   "execution_count": 3,
   "metadata": {},
   "outputs": [],
   "source": [
    "# get chi diff with mask\n",
    "year = \"2011\"\n",
    "temp_diff = []\n",
    "temp_diff_abs = []\n",
    "for chi in chi_ls:\n",
    "    temp_mask = xr.open_dataset(mask_path+str(year)+\"_\"+chi+\".nc\")[\"mask\"]\n",
    "    temp_diff.append(xr.open_dataset(diff_path+year+\"_\"+chi+\"_mean.nc\").where(temp_mask))\n",
    "    temp_diff_abs.append(xr.open_dataset(diff_path+year+\"_\"+chi+\"_mean_abs.nc\").where(temp_mask))\n",
    "ds_diff = xr.merge(temp_diff)\n",
    "ds_diff_abs = xr.merge(temp_diff_abs)"
   ]
  },
  {
   "cell_type": "code",
   "execution_count": 4,
   "metadata": {},
   "outputs": [],
   "source": [
    "# merge chi diff with species\n",
    "df_diff = xr.merge([ds_diff,ds_species])\\\n",
    "          .sel(lat=slice(-50.0,50.0)).to_dataframe().reset_index()\n",
    "df_diff[\"dst_fraction\"] = df_diff['Mass_dst']/(df_diff[aero_ls].sum(axis=1))\n",
    "\n",
    "df_diff_abs = xr.merge([ds_diff_abs,ds_species])\\\n",
    "          .sel(lat=slice(-50.0,50.0)).to_dataframe().reset_index()\n",
    "df_diff_abs[\"dst_fraction\"] = df_diff_abs['Mass_dst']/(df_diff_abs[aero_ls].sum(axis=1))"
   ]
  },
  {
   "cell_type": "code",
   "execution_count": 5,
   "metadata": {},
   "outputs": [],
   "source": [
    "rc={'axes.labelsize': 12,\n",
    "    'font.size': 12, 'legend.fontsize': 12, \n",
    "    'axes.titlesize': 12,\n",
    "    'xtick.labelsize': 12.0,\n",
    "    'ytick.labelsize': 12.0}\n",
    "plt.rcParams.update(**rc)\n",
    "\n",
    "xedges = list(np.arange(0,100,1))\n",
    "yedges = list(np.arange(0,100,1))\n",
    "ticks=[0,20,40,60,80,100]\n",
    "x=df_diff_abs[\"dst_fraction\"]*100.0\n",
    "y=df_diff_abs[\"chi_h\"]*100.0"
   ]
  },
  {
   "cell_type": "code",
   "execution_count": 6,
   "metadata": {},
   "outputs": [
    {
     "data": {
      "image/png": "[encoded data removed]",
      "text/plain": [
       "<Figure size 266.4x216 with 2 Axes>"
      ]
     },
     "metadata": {
      "needs_background": "light"
     },
     "output_type": "display_data"
    }
   ],
   "source": [
    "fig = plt.figure(figsize=(3.7,3.0))\n",
    "ax = fig.add_subplot(111)\n",
    "H, xedges, yedges = np.histogram2d(x,y, bins=(xedges, yedges))\n",
    "H = H.T\n",
    "H=ma.masked_where(H==0,H)\n",
    "X, Y = np.meshgrid(xedges, yedges)\n",
    "\n",
    "p = ax.pcolormesh(X, Y, H,\n",
    "               norm=colors.LogNorm(vmin=H.min(), vmax=H.max()),edgecolor=\"face\", linewidth=0.00, rasterized=True)\n",
    "\n",
    "clb=plt.colorbar(p,orientation='vertical',fraction=0.038,extend='both',ax=ax)\n",
    "clb.set_label('num.', labelpad=-10, y=1.1, rotation=0)\n",
    "\n",
    "ax.set_xlabel(\"mass fraction of dust (%)\")\n",
    "ax.set_ylabel(r'$\\overline{|\\Delta\\chi_{\\rm{h}}|}$'+\" (%)\")\n",
    "ax.set_xlim(0,100)\n",
    "ax.set_ylim(0,100)\n",
    "\n",
    "plt.tight_layout()\n",
    "plt.savefig(\"../figures/abs_diff_chi_to_dst_frac.pdf\",dpi=288)"
   ]
  }
 ],
 "metadata": {
  "kernelspec": {
   "display_name": "Python 3",
   "language": "python",
   "name": "python3"
  },
  "language_info": {
   "codemirror_mode": {
    "name": "ipython",
    "version": 3
   },
   "file_extension": ".py",
   "mimetype": "text/x-python",
   "name": "python",
   "nbconvert_exporter": "python",
   "pygments_lexer": "ipython3",
   "version": "3.6.7"
  }
 },
 "nbformat": 4,
 "nbformat_minor": 4
}
