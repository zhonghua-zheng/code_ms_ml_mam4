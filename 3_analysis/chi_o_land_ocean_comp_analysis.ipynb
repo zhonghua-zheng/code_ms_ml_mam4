{
 "cells": [
  {
   "cell_type": "markdown",
   "metadata": {},
   "source": [
    "# Land and Ocean Difference"
   ]
  },
  {
   "cell_type": "code",
   "execution_count": 1,
   "metadata": {},
   "outputs": [],
   "source": [
    "import numpy as np\n",
    "import pandas as pd\n",
    "import xarray as xr\n",
    "from tqdm import tqdm\n",
    "import gc\n",
    "import matplotlib.pyplot as plt\n",
    "import cartopy.crs as ccrs\n",
    "import matplotlib.ticker as mticker\n",
    "from util import *\n",
    "import geopandas as gpd\n",
    "from geopandas import GeoDataFrame as gdf\n",
    "\n",
    "def open_chi(path):  \n",
    "    ds=(xr.open_dataset(path)*100)\n",
    "    ds=ds.assign_coords(lon=(((ds.lon + 180) % 360) - 180))\n",
    "    ds=ds.reindex(lon=sorted(ds.lon))  \n",
    "    return ds"
   ]
  },
  {
   "cell_type": "code",
   "execution_count": 2,
   "metadata": {},
   "outputs": [],
   "source": [
    "year = \"2011\"\n",
    "method_ls = [\"MAM4\",\"ML\"]\n",
    "chi_ls = [\"chi_b\",\"chi_c\",\"chi_h\"]\n",
    "\n",
    "file_path = {}\n",
    "file_path[\"MAM4\"] = \"/data/keeling/a/zzheng25/d/mam4_paper_data/chi_only/mam4_chi/\"\n",
    "file_path[\"ML\"] = \"/data/keeling/a/zzheng25/d/mam4_paper_data/chi_only/ml_chi/\"\n",
    "file_path[\"diff\"] = \"/data/keeling/a/zzheng25/d/mam4_paper_data/chi_only/mam4_minus_ml_chi/\"\n",
    "file_path[\"diff_abs\"] = \"/data/keeling/a/zzheng25/d/mam4_paper_data/chi_only/mam4_minus_ml_chi/\"\n",
    "mask_path = \"/data/keeling/a/zzheng25/d/mam4_paper_data/chi_only/mask/\"\n",
    "\n",
    "per_ls = [\n",
    "    \"bc_a1_per\",\"bc_a4_per\",\n",
    "    \"dst_a1_per\",\"dst_a2_per\",\n",
    "    \"ncl_a1_per\",\"ncl_a2_per\",\n",
    "    \"pom_a1_per\",\"pom_a4_per\",\n",
    "    \"so4_a1_per\",\"so4_a2_per\",\n",
    "    \"soa_a1_per\",\"soa_a2_per\"\n",
    "    ]\n",
    "\n",
    "comp = open_nc(\"/data/keeling/a/zzheng25/d/mam4_paper_data/chi_only/comp_analysis/\"+str(year)+\"_year_comp.nc\")\\\n",
    "       .to_dataframe()[per_ls].reset_index()"
   ]
  },
  {
   "cell_type": "markdown",
   "metadata": {},
   "source": [
    "## load data"
   ]
  },
  {
   "cell_type": "code",
   "execution_count": 3,
   "metadata": {},
   "outputs": [
    {
     "name": "stderr",
     "output_type": "stream",
     "text": [
      "100%|██████████| 3/3 [00:02<00:00,  1.13it/s]\n"
     ]
    }
   ],
   "source": [
    "da={}\n",
    "for chi in tqdm(chi_ls):\n",
    "    da[chi]={}\n",
    "    for method in method_ls:\n",
    "        if method==\"diff_abs\":\n",
    "            da_temp = open_chi(file_path[method]+str(year)+\"_\"+chi+\"_mean_abs.nc\")[chi]\n",
    "            mask = open_chi(mask_path+str(year)+\"_\"+chi+\".nc\")[\"mask\"]\n",
    "            da[chi][method] = da_temp.where(mask)\n",
    "        \n",
    "        else:\n",
    "            da_temp = open_chi(file_path[method]+str(year)+\"_\"+chi+\"_mean.nc\")[chi]\n",
    "            mask = open_chi(mask_path+str(year)+\"_\"+chi+\".nc\")[\"mask\"]\n",
    "            da[chi][method] = da_temp.where(mask)\n",
    "        \n",
    "        del da_temp, mask\n",
    "        gc.collect()"
   ]
  },
  {
   "cell_type": "markdown",
   "metadata": {},
   "source": [
    "## Workflow"
   ]
  },
  {
   "cell_type": "code",
   "execution_count": 4,
   "metadata": {},
   "outputs": [],
   "source": [
    "# get ocean and land data\n",
    "def get_land_ocean(method, da):\n",
    "    chi_b=da[\"chi_b\"][method].to_dataframe().reset_index()\n",
    "    chi_c=da[\"chi_c\"][method].to_dataframe().reset_index()\n",
    "    chi_h=da[\"chi_h\"][method].to_dataframe().reset_index()\n",
    "\n",
    "    merge_1=chi_b.merge(chi_c,on=[\"lat\",\"lon\"],how=\"outer\")\n",
    "    df=merge_1.merge(chi_h,on=[\"lat\",\"lon\"],how=\"outer\")\n",
    "    \n",
    "    world = gpd.read_file(gpd.datasets.get_path('naturalearth_lowres'))\n",
    "    points= gdf(df.reset_index(), geometry=gpd.points_from_xy(df.reset_index().lon, df.reset_index().lat))\n",
    "    points.crs=\"EPSG:4326\"\n",
    "    jps = gpd.sjoin(world, points, how='right', op='contains')\n",
    "    vari_ls_new = [\"lat\",\"lon\",\"chi_b\",\"chi_c\",\"chi_h\"]\n",
    "    land = jps[~jps[\"index_left\"].isnull()][vari_ls_new]\n",
    "    ocean = jps[jps[\"index_left\"].isnull()][vari_ls_new]\n",
    "    \n",
    "    land_new = land.set_index([\"lat\",\"lon\"]).stack()\\\n",
    "    .reset_index(name=\"mixing_state_index\")\\\n",
    "    .rename(columns={'level_2':'mixing_state_type'})\n",
    "    print(\"land\")\n",
    "    display(land_new.groupby([\"mixing_state_type\"])[\"mixing_state_index\"].describe()[\"mean\"])\n",
    "\n",
    "    ocean_new = ocean.set_index([\"lat\",\"lon\"]).stack()\\\n",
    "    .reset_index(name=\"mixing_state_index\")\\\n",
    "    .rename(columns={'level_2':'mixing_state_type'})\n",
    "    print(\"ocean\")\n",
    "    display(ocean_new.groupby([\"mixing_state_type\"])[\"mixing_state_index\"].describe()[\"mean\"])\n",
    "    print(\"\\n\")\n",
    "    \n",
    "    return land_new, ocean_new\n",
    "\n",
    "# comp analysis for land or ocean\n",
    "def comp_analysis(df, chi, lat_min=-90, lat_max=90, lon_min=-180, lon_max=180, comp=comp):\n",
    "    df_temp = df[(df[\"lat\"]>=lat_min) & (df[\"lat\"]<=lat_max) &\n",
    "                 (df[\"lon\"]>=lon_min) & (df[\"lon\"]<=lon_max) & \n",
    "                 (df[\"mixing_state_type\"]==chi)]\n",
    "#     print(df_temp.shape)\n",
    "    df_temp_comp=df_temp.merge(comp, on=[\"lat\",\"lon\"], how=\"inner\")\n",
    "#     print(df_temp_comp.shape)\n",
    "    display(df_temp_comp.describe().transpose()[\"mean\"])"
   ]
  },
  {
   "cell_type": "code",
   "execution_count": 5,
   "metadata": {},
   "outputs": [
    {
     "name": "stdout",
     "output_type": "stream",
     "text": [
      "MAM4\n",
      "land\n"
     ]
    },
    {
     "data": {
      "text/plain": [
       "mixing_state_type\n",
       "chi_b    87.394463\n",
       "chi_c    57.977361\n",
       "chi_h    62.640074\n",
       "Name: mean, dtype: float64"
      ]
     },
     "metadata": {},
     "output_type": "display_data"
    },
    {
     "name": "stdout",
     "output_type": "stream",
     "text": [
      "ocean\n"
     ]
    },
    {
     "data": {
      "text/plain": [
       "mixing_state_type\n",
       "chi_b    85.287231\n",
       "chi_c    58.574136\n",
       "chi_h    62.896255\n",
       "Name: mean, dtype: float64"
      ]
     },
     "metadata": {},
     "output_type": "display_data"
    },
    {
     "name": "stdout",
     "output_type": "stream",
     "text": [
      "\n",
      "\n",
      "ML\n",
      "land\n"
     ]
    },
    {
     "data": {
      "text/plain": [
       "mixing_state_type\n",
       "chi_b    77.070656\n",
       "chi_c    55.056091\n",
       "chi_h    60.661880\n",
       "Name: mean, dtype: float64"
      ]
     },
     "metadata": {},
     "output_type": "display_data"
    },
    {
     "name": "stdout",
     "output_type": "stream",
     "text": [
      "ocean\n"
     ]
    },
    {
     "data": {
      "text/plain": [
       "mixing_state_type\n",
       "chi_b    68.688721\n",
       "chi_c    52.496044\n",
       "chi_h    56.535778\n",
       "Name: mean, dtype: float64"
      ]
     },
     "metadata": {},
     "output_type": "display_data"
    },
    {
     "name": "stdout",
     "output_type": "stream",
     "text": [
      "\n",
      "\n"
     ]
    }
   ],
   "source": [
    "print(\"MAM4\")\n",
    "method=\"MAM4\"\n",
    "l_mam4, o_mam4 = get_land_ocean(method, da)\n",
    "\n",
    "print(\"ML\")\n",
    "method=\"ML\"\n",
    "l_ml, o_ml = get_land_ocean(method, da)"
   ]
  },
  {
   "cell_type": "markdown",
   "metadata": {},
   "source": [
    "## chi_opt1"
   ]
  },
  {
   "cell_type": "markdown",
   "metadata": {},
   "source": [
    "### MAM4"
   ]
  },
  {
   "cell_type": "code",
   "execution_count": 6,
   "metadata": {},
   "outputs": [
    {
     "data": {
      "text/plain": [
       "lat                   52.805682\n",
       "lon                  -26.260689\n",
       "mixing_state_index    75.462173\n",
       "bc_a1_per              1.010531\n",
       "bc_a4_per              1.175600\n",
       "dst_a1_per             1.223626\n",
       "dst_a2_per             0.000267\n",
       "ncl_a1_per            49.376904\n",
       "ncl_a2_per             0.336654\n",
       "pom_a1_per             6.336105\n",
       "pom_a4_per             6.394899\n",
       "so4_a1_per            22.630384\n",
       "so4_a2_per             0.509159\n",
       "soa_a1_per            10.941954\n",
       "soa_a2_per             0.063918\n",
       "Name: mean, dtype: float64"
      ]
     },
     "metadata": {},
     "output_type": "display_data"
    }
   ],
   "source": [
    "chi = \"chi_b\"; lat_min = 45; lat_max = 60\n",
    "comp_analysis(o_mam4, chi, lat_min, lat_max)"
   ]
  },
  {
   "cell_type": "code",
   "execution_count": 7,
   "metadata": {},
   "outputs": [
    {
     "data": {
      "text/plain": [
       "lat                  -80.309031\n",
       "lon                   21.365548\n",
       "mixing_state_index    74.858360\n",
       "bc_a1_per              0.359352\n",
       "bc_a4_per              1.644499\n",
       "dst_a1_per             2.121426\n",
       "dst_a2_per             0.001814\n",
       "ncl_a1_per            24.601838\n",
       "ncl_a2_per             0.288057\n",
       "pom_a1_per             2.313692\n",
       "pom_a4_per             8.619451\n",
       "so4_a1_per            38.988615\n",
       "so4_a2_per            18.359612\n",
       "soa_a1_per             2.640066\n",
       "soa_a2_per             0.061579\n",
       "Name: mean, dtype: float64"
      ]
     },
     "metadata": {},
     "output_type": "display_data"
    }
   ],
   "source": [
    "chi = \"chi_b\"; lat_min = -90; lat_max = -66.5\n",
    "comp_analysis(l_mam4, chi, lat_min, lat_max)"
   ]
  }
 ],
 "metadata": {
  "kernelspec": {
   "display_name": "Python 3",
   "language": "python",
   "name": "python3"
  },
  "language_info": {
   "codemirror_mode": {
    "name": "ipython",
    "version": 3
   },
   "file_extension": ".py",
   "mimetype": "text/x-python",
   "name": "python",
   "nbconvert_exporter": "python",
   "pygments_lexer": "ipython3",
   "version": "3.6.7"
  }
 },
 "nbformat": 4,
 "nbformat_minor": 4
}
