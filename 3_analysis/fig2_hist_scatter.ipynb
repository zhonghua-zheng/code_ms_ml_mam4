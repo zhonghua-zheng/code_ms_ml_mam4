{
 "cells": [
  {
   "cell_type": "markdown",
   "metadata": {},
   "source": [
    "This script describes the difference between ML and MAM4"
   ]
  },
  {
   "cell_type": "code",
   "execution_count": 1,
   "metadata": {},
   "outputs": [],
   "source": [
    "import numpy as np\n",
    "import pandas as pd\n",
    "import xarray as xr\n",
    "from tqdm import tqdm\n",
    "import gc\n",
    "import matplotlib.pyplot as plt\n",
    "import cartopy.crs as ccrs\n",
    "import matplotlib.ticker as mticker\n",
    "import matplotlib.colors as colors\n",
    "import numpy.ma as ma\n",
    "import statsmodels.api as sm\n",
    "from scipy import stats\n",
    "import seaborn as sns\n",
    "import time\n",
    "\n",
    "def open_nc(path,scale=1.0):\n",
    "    ds=(xr.open_dataset(path)*scale)\n",
    "    ds=ds.assign_coords(lon=(((ds.lon + 180) % 360) - 180))\n",
    "    ds=ds.reindex(lon=sorted(ds.lon))  \n",
    "    return ds"
   ]
  },
  {
   "cell_type": "code",
   "execution_count": 2,
   "metadata": {},
   "outputs": [],
   "source": [
    "year = \"2011\"\n",
    "method_ls = [\"MAM4\",\"ML\",\"diff\",\"diff_abs\"]\n",
    "chi_ls = [\"chi_b\",\"chi_c\",\"chi_h\"]\n",
    "\n",
    "file_path = {}\n",
    "file_path[\"MAM4\"] = \"/data/keeling/a/zzheng25/d/mam4_paper_data/chi_only/mam4_chi/\"\n",
    "file_path[\"ML\"] = \"/data/keeling/a/zzheng25/d/mam4_paper_data/chi_only/ml_chi/\"\n",
    "file_path[\"diff\"] = \"/data/keeling/a/zzheng25/d/mam4_paper_data/chi_only/mam4_minus_ml_chi/\"\n",
    "file_path[\"diff_abs\"] = \"/data/keeling/a/zzheng25/d/mam4_paper_data/chi_only/mam4_minus_ml_chi/\"\n",
    "mask_path = \"/data/keeling/a/zzheng25/d/mam4_paper_data/chi_only/mask/\"\n",
    "\n",
    "name_ls = {}\n",
    "name_ls[\"chi_b\"]=r'$\\chi_{\\rm{o}}$ (%)'\n",
    "name_ls[\"chi_c\"]=r'$\\chi_{\\rm{c}}$ (%)'\n",
    "name_ls[\"chi_h\"]=r'$\\chi_{\\rm{h}}$ (%)'\n",
    "\n",
    "char_ls=\"abcdef\""
   ]
  },
  {
   "cell_type": "markdown",
   "metadata": {},
   "source": [
    "## hist and scatter for mean"
   ]
  },
  {
   "cell_type": "code",
   "execution_count": 3,
   "metadata": {},
   "outputs": [],
   "source": [
    "def ax_hist_scatter(chi,idx,ax_title,ax_title_plus_3):\n",
    "    t0 = time.time()\n",
    "    mask = open_nc(mask_path+str(year)+\"_\"+chi+\".nc\")[\"mask\"]\n",
    "    MAM4_o = open_nc(file_path[\"MAM4\"]+str(year)+\"_\"+chi+\"_mean.nc\",scale=100.0)[chi]\\\n",
    "          .where(mask).to_dataframe()\\\n",
    "          .reset_index().dropna()[chi]\n",
    "    ML_o = open_nc(file_path[\"ML\"]+str(year)+\"_\"+chi+\"_mean.nc\",scale=100.0)[chi]\\\n",
    "          .where(mask).to_dataframe()\\\n",
    "          .reset_index().dropna()[chi]\n",
    "    diff_o = open_nc(file_path[\"diff\"]+str(year)+\"_\"+chi+\"_mean.nc\",scale=100.0)[chi]\\\n",
    "          .where(mask).to_dataframe()\\\n",
    "          .reset_index().dropna()[chi]\n",
    "    diff_abs = open_nc(file_path[\"diff_abs\"]+str(year)+\"_\"+chi+\"_mean_abs.nc\",scale=100.0)[chi]\\\n",
    "          .where(mask).to_dataframe()\\\n",
    "          .reset_index().dropna()[chi]\n",
    "    del mask \n",
    "    gc.collect()\n",
    "    t1 = time.time()\n",
    "    print(\"Finished loading data as dataframe\",t1-t0,\"s\")\n",
    "    \n",
    "    MAM4=MAM4_o.rename(\"MAM4: \" + name_ls[chi])\n",
    "    ML=ML_o.rename(\"ML: \" + name_ls[chi])\n",
    "    diff = diff_o.rename(\"diff: \" + name_ls[chi])\n",
    "    diff_abs = diff_abs.rename(\"diff_abs: \" + name_ls[chi])\n",
    "    t2 = time.time()\n",
    "    print(\"Finished renaming and data and calculate the difference\",t2-t1,\"s\")\n",
    "    \n",
    "    df = pd.concat([MAM4,ML,diff,diff_abs],axis=1)\n",
    "    ax = plt.subplot(2,3,idx)\n",
    "    color_dict={\"MAM4: \" + name_ls[chi]:\"red\",\n",
    "                \"ML: \" + name_ls[chi]:\"orange\",\n",
    "                \"diff: \" + name_ls[chi]:\"blue\",\n",
    "                \"diff_abs: \" + name_ls[chi]:\"purple\"}\n",
    "    t3 = time.time()\n",
    "    del MAM4, ML, diff\n",
    "    gc.collect()\n",
    "    print(\"Finished concat the dataframe\",t3-t2,\"s\")\n",
    "    \n",
    "    ## hist\n",
    "    col_name_ls = [\"MAM4\",\"ML\",r\"$\\Delta\\chi$\",r\"$|\\Delta\\chi|$\"]\n",
    "    for col_name, col in zip(col_name_ls,df.columns):\n",
    "        t_t = time.time()\n",
    "        if chi == \"chi_b\":\n",
    "            sns.distplot(df[col],kde=True,\n",
    "                         color=color_dict[col],\n",
    "                         label=col_name,\n",
    "                         ax=ax)\n",
    "            ax.set_ylabel(\"density\")\n",
    "        \n",
    "        elif chi == \"chi_c\":\n",
    "            sns.distplot(df[col],kde=True,\n",
    "                         color=color_dict[col],\n",
    "                         label=col_name,\n",
    "                         ax=ax)\n",
    "            plt.legend(loc=\"upper left\")\n",
    "        else:\n",
    "            sns.distplot(df[col],kde=True,\n",
    "                         color=color_dict[col],\n",
    "                         label=None,\n",
    "                         ax=ax)\n",
    "        ax.set_title(ax_title)\n",
    "        ax.set_xlabel(name_ls[chi])\n",
    "        ax.set_xlim(-100,100)\n",
    "        display(df[col].describe())\n",
    "        print(\"Finished\",col,time.time()-t_t,\"s\")\n",
    "        \n",
    "    ## scatter\n",
    "    xedges = list(np.arange(0,100,1))\n",
    "    yedges = list(np.arange(0,100,1))\n",
    "    ticks=[0,20,40,60,80,100]\n",
    "    x=ML_o\n",
    "    y=MAM4_o\n",
    "\n",
    "    ax = plt.subplot(2,3,idx+3)\n",
    "    H, xedges, yedges = np.histogram2d(x,y, bins=(xedges, yedges))\n",
    "    H = H.T\n",
    "    H=ma.masked_where(H==0,H)\n",
    "    X, Y = np.meshgrid(xedges, yedges)\n",
    "    p = ax.pcolormesh(X, Y, H,\n",
    "                      norm=colors.LogNorm(vmin=1, vmax=500),edgecolor=\"face\", linewidth=0.00,\n",
    "                      cmap=\"plasma_r\",rasterized=True)\n",
    "    ax.plot([0,100], [0,100], 'k--', linewidth = 1)\n",
    "    ax.set_title(ax_title_plus_3)\n",
    "    ax.set_xlabel(\"ML: \"+name_ls[chi])\n",
    "    ax.set_ylabel(\"MAM4: \"+name_ls[chi])\n",
    "    ax.set_xlim(0,100)\n",
    "    ax.set_ylim(0,100)\n",
    "    plt.xticks([0,25,50,75,100])\n",
    "    plt.yticks([0,25,50,75,100])\n",
    "    ax.axvline(x=x.mean(),c='k', ls=\"--\",linewidth = 0.5)\n",
    "    ax.axhline(y=y.mean(),c='k', ls=\"--\",linewidth = 0.5)\n",
    "    clb=plt.colorbar(p,orientation='vertical',fraction=0.038,extend='both',ax=ax)\n",
    "    clb.set_label('num.', labelpad=-10, y=1.1, rotation=0)\n",
    "    plt.tight_layout()\n",
    "        \n",
    "    print(\"Finished all\",time.time()-t0,\"s\")"
   ]
  },
  {
   "cell_type": "code",
   "execution_count": 4,
   "metadata": {
    "scrolled": false
   },
   "outputs": [
    {
     "name": "stdout",
     "output_type": "stream",
     "text": [
      "chi_b\n",
      "Finished loading data as dataframe 0.9695556163787842 s\n",
      "Finished renaming and data and calculate the difference 0.0012874603271484375 s\n",
      "Finished concat the dataframe 0.04692649841308594 s\n"
     ]
    },
    {
     "name": "stderr",
     "output_type": "stream",
     "text": [
      "/data/keeling/a/zzheng25/miniconda3/envs/partmc/lib/python3.6/site-packages/seaborn/distributions.py:2551: FutureWarning: `distplot` is a deprecated function and will be removed in a future version. Please adapt your code to use either `displot` (a figure-level function with similar flexibility) or `histplot` (an axes-level function for histograms).\n",
      "  warnings.warn(msg, FutureWarning)\n"
     ]
    },
    {
     "data": {
      "text/plain": [
       "count    37580.000000\n",
       "mean        86.257466\n",
       "std         10.537287\n",
       "min         46.393091\n",
       "25%         76.748478\n",
       "50%         90.180416\n",
       "75%         94.266094\n",
       "max         99.761359\n",
       "Name: MAM4: $\\chi_{\\rm{o}}$ (%), dtype: float64"
      ]
     },
     "metadata": {},
     "output_type": "display_data"
    },
    {
     "name": "stdout",
     "output_type": "stream",
     "text": [
      "Finished MAM4: $\\chi_{\\rm{o}}$ (%) 0.38724517822265625 s\n"
     ]
    },
    {
     "name": "stderr",
     "output_type": "stream",
     "text": [
      "/data/keeling/a/zzheng25/miniconda3/envs/partmc/lib/python3.6/site-packages/seaborn/distributions.py:2551: FutureWarning: `distplot` is a deprecated function and will be removed in a future version. Please adapt your code to use either `displot` (a figure-level function with similar flexibility) or `histplot` (an axes-level function for histograms).\n",
      "  warnings.warn(msg, FutureWarning)\n"
     ]
    },
    {
     "data": {
      "text/plain": [
       "count    37580.000000\n",
       "mean        72.548019\n",
       "std          7.511827\n",
       "min         54.632290\n",
       "25%         66.798819\n",
       "50%         73.038979\n",
       "75%         77.080269\n",
       "max         96.163055\n",
       "Name: ML: $\\chi_{\\rm{o}}$ (%), dtype: float64"
      ]
     },
     "metadata": {},
     "output_type": "display_data"
    },
    {
     "name": "stdout",
     "output_type": "stream",
     "text": [
      "Finished ML: $\\chi_{\\rm{o}}$ (%) 0.3271467685699463 s\n"
     ]
    },
    {
     "name": "stderr",
     "output_type": "stream",
     "text": [
      "/data/keeling/a/zzheng25/miniconda3/envs/partmc/lib/python3.6/site-packages/seaborn/distributions.py:2551: FutureWarning: `distplot` is a deprecated function and will be removed in a future version. Please adapt your code to use either `displot` (a figure-level function with similar flexibility) or `histplot` (an axes-level function for histograms).\n",
      "  warnings.warn(msg, FutureWarning)\n"
     ]
    },
    {
     "data": {
      "text/plain": [
       "count    37580.000000\n",
       "mean        13.709452\n",
       "std         10.353649\n",
       "min        -18.863626\n",
       "25%          7.047183\n",
       "50%         13.603584\n",
       "75%         19.399585\n",
       "max         41.945478\n",
       "Name: diff: $\\chi_{\\rm{o}}$ (%), dtype: float64"
      ]
     },
     "metadata": {},
     "output_type": "display_data"
    },
    {
     "name": "stdout",
     "output_type": "stream",
     "text": [
      "Finished diff: $\\chi_{\\rm{o}}$ (%) 0.3365294933319092 s\n"
     ]
    },
    {
     "name": "stderr",
     "output_type": "stream",
     "text": [
      "/data/keeling/a/zzheng25/miniconda3/envs/partmc/lib/python3.6/site-packages/seaborn/distributions.py:2551: FutureWarning: `distplot` is a deprecated function and will be removed in a future version. Please adapt your code to use either `displot` (a figure-level function with similar flexibility) or `histplot` (an axes-level function for histograms).\n",
      "  warnings.warn(msg, FutureWarning)\n"
     ]
    },
    {
     "data": {
      "text/plain": [
       "count    37580.000000\n",
       "mean        17.753766\n",
       "std          6.839440\n",
       "min          1.754346\n",
       "25%         13.337091\n",
       "50%         16.073554\n",
       "75%         20.735635\n",
       "max         41.945478\n",
       "Name: diff_abs: $\\chi_{\\rm{o}}$ (%), dtype: float64"
      ]
     },
     "metadata": {},
     "output_type": "display_data"
    },
    {
     "name": "stdout",
     "output_type": "stream",
     "text": [
      "Finished diff_abs: $\\chi_{\\rm{o}}$ (%) 0.3263123035430908 s\n",
      "Finished all 2.952991247177124 s\n",
      "\n",
      "\n",
      "chi_c\n",
      "Finished loading data as dataframe 0.9629576206207275 s\n",
      "Finished renaming and data and calculate the difference 0.0014307498931884766 s\n",
      "Finished concat the dataframe 0.02301788330078125 s\n"
     ]
    },
    {
     "name": "stderr",
     "output_type": "stream",
     "text": [
      "/data/keeling/a/zzheng25/miniconda3/envs/partmc/lib/python3.6/site-packages/seaborn/distributions.py:2551: FutureWarning: `distplot` is a deprecated function and will be removed in a future version. Please adapt your code to use either `displot` (a figure-level function with similar flexibility) or `histplot` (an axes-level function for histograms).\n",
      "  warnings.warn(msg, FutureWarning)\n"
     ]
    },
    {
     "data": {
      "text/plain": [
       "count    43815.000000\n",
       "mean        58.329311\n",
       "std         29.180096\n",
       "min          9.234784\n",
       "25%         32.399699\n",
       "50%         65.613351\n",
       "75%         84.904065\n",
       "max         99.806565\n",
       "Name: MAM4: $\\chi_{\\rm{c}}$ (%), dtype: float64"
      ]
     },
     "metadata": {},
     "output_type": "display_data"
    },
    {
     "name": "stdout",
     "output_type": "stream",
     "text": [
      "Finished MAM4: $\\chi_{\\rm{c}}$ (%) 0.346726655960083 s\n"
     ]
    },
    {
     "name": "stderr",
     "output_type": "stream",
     "text": [
      "/data/keeling/a/zzheng25/miniconda3/envs/partmc/lib/python3.6/site-packages/seaborn/distributions.py:2551: FutureWarning: `distplot` is a deprecated function and will be removed in a future version. Please adapt your code to use either `displot` (a figure-level function with similar flexibility) or `histplot` (an axes-level function for histograms).\n",
      "  warnings.warn(msg, FutureWarning)\n"
     ]
    },
    {
     "data": {
      "text/plain": [
       "count    43815.000000\n",
       "mean        53.546295\n",
       "std          7.315084\n",
       "min         31.301344\n",
       "25%         49.496231\n",
       "50%         52.915848\n",
       "75%         58.172157\n",
       "max         84.171837\n",
       "Name: ML: $\\chi_{\\rm{c}}$ (%), dtype: float64"
      ]
     },
     "metadata": {},
     "output_type": "display_data"
    },
    {
     "name": "stdout",
     "output_type": "stream",
     "text": [
      "Finished ML: $\\chi_{\\rm{c}}$ (%) 0.3308448791503906 s\n"
     ]
    },
    {
     "name": "stderr",
     "output_type": "stream",
     "text": [
      "/data/keeling/a/zzheng25/miniconda3/envs/partmc/lib/python3.6/site-packages/seaborn/distributions.py:2551: FutureWarning: `distplot` is a deprecated function and will be removed in a future version. Please adapt your code to use either `displot` (a figure-level function with similar flexibility) or `histplot` (an axes-level function for histograms).\n",
      "  warnings.warn(msg, FutureWarning)\n"
     ]
    },
    {
     "data": {
      "text/plain": [
       "count    43815.000000\n",
       "mean         4.783016\n",
       "std         26.066370\n",
       "min        -45.636877\n",
       "25%        -21.107396\n",
       "50%          9.917758\n",
       "75%         27.200894\n",
       "max         58.567628\n",
       "Name: diff: $\\chi_{\\rm{c}}$ (%), dtype: float64"
      ]
     },
     "metadata": {},
     "output_type": "display_data"
    },
    {
     "name": "stdout",
     "output_type": "stream",
     "text": [
      "Finished diff: $\\chi_{\\rm{c}}$ (%) 0.3034193515777588 s\n"
     ]
    },
    {
     "name": "stderr",
     "output_type": "stream",
     "text": [
      "/data/keeling/a/zzheng25/miniconda3/envs/partmc/lib/python3.6/site-packages/seaborn/distributions.py:2551: FutureWarning: `distplot` is a deprecated function and will be removed in a future version. Please adapt your code to use either `displot` (a figure-level function with similar flexibility) or `histplot` (an axes-level function for histograms).\n",
      "  warnings.warn(msg, FutureWarning)\n"
     ]
    },
    {
     "data": {
      "text/plain": [
       "count    43815.000000\n",
       "mean        30.213293\n",
       "std          7.771065\n",
       "min          5.049897\n",
       "25%         26.419035\n",
       "50%         29.514167\n",
       "75%         35.296243\n",
       "max         58.653877\n",
       "Name: diff_abs: $\\chi_{\\rm{c}}$ (%), dtype: float64"
      ]
     },
     "metadata": {},
     "output_type": "display_data"
    },
    {
     "name": "stdout",
     "output_type": "stream",
     "text": [
      "Finished diff_abs: $\\chi_{\\rm{c}}$ (%) 0.3199148178100586 s\n",
      "Finished all 2.6490914821624756 s\n",
      "\n",
      "\n",
      "chi_h\n",
      "Finished loading data as dataframe 0.6688580513000488 s\n",
      "Finished renaming and data and calculate the difference 0.0012476444244384766 s\n",
      "Finished concat the dataframe 0.019113779067993164 s\n"
     ]
    },
    {
     "name": "stderr",
     "output_type": "stream",
     "text": [
      "/data/keeling/a/zzheng25/miniconda3/envs/partmc/lib/python3.6/site-packages/seaborn/distributions.py:2551: FutureWarning: `distplot` is a deprecated function and will be removed in a future version. Please adapt your code to use either `displot` (a figure-level function with similar flexibility) or `histplot` (an axes-level function for histograms).\n",
      "  warnings.warn(msg, FutureWarning)\n"
     ]
    },
    {
     "data": {
      "text/plain": [
       "count    47720.000000\n",
       "mean        62.799350\n",
       "std         28.284623\n",
       "min         10.250702\n",
       "25%         39.396943\n",
       "50%         70.977655\n",
       "75%         88.101715\n",
       "max         99.848093\n",
       "Name: MAM4: $\\chi_{\\rm{h}}$ (%), dtype: float64"
      ]
     },
     "metadata": {},
     "output_type": "display_data"
    },
    {
     "name": "stdout",
     "output_type": "stream",
     "text": [
      "Finished MAM4: $\\chi_{\\rm{h}}$ (%) 0.33287954330444336 s\n"
     ]
    },
    {
     "name": "stderr",
     "output_type": "stream",
     "text": [
      "/data/keeling/a/zzheng25/miniconda3/envs/partmc/lib/python3.6/site-packages/seaborn/distributions.py:2551: FutureWarning: `distplot` is a deprecated function and will be removed in a future version. Please adapt your code to use either `displot` (a figure-level function with similar flexibility) or `histplot` (an axes-level function for histograms).\n",
      "  warnings.warn(msg, FutureWarning)\n"
     ]
    },
    {
     "data": {
      "text/plain": [
       "count    47720.000000\n",
       "mean        58.096554\n",
       "std         11.019038\n",
       "min         20.912895\n",
       "25%         50.066832\n",
       "50%         57.881466\n",
       "75%         65.212793\n",
       "max         80.560425\n",
       "Name: ML: $\\chi_{\\rm{h}}$ (%), dtype: float64"
      ]
     },
     "metadata": {},
     "output_type": "display_data"
    },
    {
     "name": "stdout",
     "output_type": "stream",
     "text": [
      "Finished ML: $\\chi_{\\rm{h}}$ (%) 0.359041690826416 s\n"
     ]
    },
    {
     "name": "stderr",
     "output_type": "stream",
     "text": [
      "/data/keeling/a/zzheng25/miniconda3/envs/partmc/lib/python3.6/site-packages/seaborn/distributions.py:2551: FutureWarning: `distplot` is a deprecated function and will be removed in a future version. Please adapt your code to use either `displot` (a figure-level function with similar flexibility) or `histplot` (an axes-level function for histograms).\n",
      "  warnings.warn(msg, FutureWarning)\n"
     ]
    },
    {
     "data": {
      "text/plain": [
       "count    47720.000000\n",
       "mean         4.702794\n",
       "std         35.328766\n",
       "min        -63.611889\n",
       "25%        -31.935025\n",
       "50%         14.425572\n",
       "75%         32.759934\n",
       "max         76.114740\n",
       "Name: diff: $\\chi_{\\rm{h}}$ (%), dtype: float64"
      ]
     },
     "metadata": {},
     "output_type": "display_data"
    },
    {
     "name": "stdout",
     "output_type": "stream",
     "text": [
      "Finished diff: $\\chi_{\\rm{h}}$ (%) 0.33667874336242676 s\n"
     ]
    },
    {
     "name": "stderr",
     "output_type": "stream",
     "text": [
      "/data/keeling/a/zzheng25/miniconda3/envs/partmc/lib/python3.6/site-packages/seaborn/distributions.py:2551: FutureWarning: `distplot` is a deprecated function and will be removed in a future version. Please adapt your code to use either `displot` (a figure-level function with similar flexibility) or `histplot` (an axes-level function for histograms).\n",
      "  warnings.warn(msg, FutureWarning)\n"
     ]
    },
    {
     "data": {
      "text/plain": [
       "count    47720.000000\n",
       "mean        38.482661\n",
       "std         11.684556\n",
       "min          5.994461\n",
       "25%         31.113113\n",
       "50%         37.774875\n",
       "75%         46.923724\n",
       "max         76.177119\n",
       "Name: diff_abs: $\\chi_{\\rm{h}}$ (%), dtype: float64"
      ]
     },
     "metadata": {},
     "output_type": "display_data"
    },
    {
     "name": "stdout",
     "output_type": "stream",
     "text": [
      "Finished diff_abs: $\\chi_{\\rm{h}}$ (%) 0.34767651557922363 s\n",
      "Finished all 2.5705759525299072 s\n",
      "\n",
      "\n"
     ]
    },
    {
     "data": {
      "image/png": "[encoded data removed]",
      "text/plain": [
       "<Figure size 792x432 with 9 Axes>"
      ]
     },
     "metadata": {
      "needs_background": "light"
     },
     "output_type": "display_data"
    }
   ],
   "source": [
    "rc={'axes.labelsize':12, 'font.size':12, 'legend.fontsize':12, 'axes.titlesize':12}\n",
    "plt.rcParams.update(**rc)\n",
    "fig = plt.figure(figsize=(11,6))\n",
    "idx=1\n",
    "for chi in chi_ls:\n",
    "    print(chi)\n",
    "    ax_hist_scatter(chi,idx,\"(\"+char_ls[idx-1]+\")\",\"(\"+char_ls[idx+2]+\")\")\n",
    "    idx+=1\n",
    "    print(\"\\n\")\n",
    "plt.tight_layout()\n",
    "fig.savefig(\"../figures/hist_scatter.pdf\",dpi=288)\n",
    "plt.show()"
   ]
  }
 ],
 "metadata": {
  "kernelspec": {
   "display_name": "Python 3",
   "language": "python",
   "name": "python3"
  },
  "language_info": {
   "codemirror_mode": {
    "name": "ipython",
    "version": 3
   },
   "file_extension": ".py",
   "mimetype": "text/x-python",
   "name": "python",
   "nbconvert_exporter": "python",
   "pygments_lexer": "ipython3",
   "version": "3.6.7"
  }
 },
 "nbformat": 4,
 "nbformat_minor": 4
}
