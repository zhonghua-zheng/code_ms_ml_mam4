{
 "cells": [
  {
   "cell_type": "code",
   "execution_count": 1,
   "metadata": {},
   "outputs": [],
   "source": [
    "import xarray as xr\n",
    "import numpy as np\n",
    "import pandas as pd\n",
    "from tqdm import tqdm\n",
    "import gc\n",
    "\n",
    "vari_ls = ['DMS_SRF','H2O2_SRF','H2SO4_SRF','O3_SRF','SO2_SRF','SOAG_SRF',\n",
    "          'Mass_so4','Mass_bc','Mass_ncl','Mass_dst','Mass_pom','Mass_soa',\n",
    "          'T','RELHUM','SZA','chi_b','chi_c','chi_h']"
   ]
  },
  {
   "cell_type": "code",
   "execution_count": 2,
   "metadata": {},
   "outputs": [],
   "source": [
    "path = \"/data/keeling/a/zzheng25/d/mam4_paper_data/mam4_cesm_pred/\"\n",
    "save_path = \"/data/keeling/a/zzheng25/d/mam4_paper_data/chi_only/aero_gas_species/\""
   ]
  },
  {
   "cell_type": "code",
   "execution_count": 3,
   "metadata": {},
   "outputs": [
    {
     "name": "stderr",
     "output_type": "stream",
     "text": [
      "100%|██████████| 12/12 [00:44<00:00,  3.73s/it]\n",
      "100%|██████████| 12/12 [00:46<00:00,  3.89s/it]\n"
     ]
    }
   ],
   "source": [
    "for year in [\"2011\",\"2010\"]:\n",
    "    month_ls = []\n",
    "    for i in tqdm(range(1,13)):\n",
    "        month=str(i).zfill(2)\n",
    "        ds=xr.open_dataset(path+str(year)+\"_\"+month+\".nc\")\n",
    "        month_ls.append(ds[vari_ls].mean(dim=\"time\")\\\n",
    "                       .assign_coords(month_idx=month)\\\n",
    "                       .expand_dims('month_idx'))\n",
    "        del ds\n",
    "        gc.collect()\n",
    "\n",
    "    ds_m = xr.merge(month_ls).mean(dim=\"month_idx\")\n",
    "    del month_ls\n",
    "    gc.collect()\n",
    "\n",
    "    # create an the mass all, then calculate the percentage\n",
    "    ## create an emtpy mass all\n",
    "    ds_m[\"Mass_all\"] = xr.DataArray(np.zeros(ds_m[\"DMS_SRF\"].shape), \n",
    "                                    coords=[ds_m.lat, ds_m.lon], \n",
    "                                    dims=['lat', 'lon'])\n",
    "\n",
    "    ds_m.to_netcdf(save_path+str(year)+\"_\"+\"aero_and_gas.nc\")\n",
    "    del ds_m\n",
    "    gc.collect()"
   ]
  }
 ],
 "metadata": {
  "kernelspec": {
   "display_name": "Python 3",
   "language": "python",
   "name": "python3"
  },
  "language_info": {
   "codemirror_mode": {
    "name": "ipython",
    "version": 3
   },
   "file_extension": ".py",
   "mimetype": "text/x-python",
   "name": "python",
   "nbconvert_exporter": "python",
   "pygments_lexer": "ipython3",
   "version": "3.6.7"
  }
 },
 "nbformat": 4,
 "nbformat_minor": 4
}
