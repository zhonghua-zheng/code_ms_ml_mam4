{
 "cells": [
  {
   "cell_type": "code",
   "execution_count": 1,
   "metadata": {},
   "outputs": [],
   "source": [
    "%matplotlib inline\n",
    "import xarray as xr\n",
    "import pandas as pd\n",
    "import numpy as np\n",
    "import matplotlib.pyplot as plt\n",
    "import pickle\n",
    "import gc\n",
    "import time\n",
    "from tqdm import tqdm\n",
    "import cartopy.crs as ccrs\n",
    "import matplotlib.ticker as mticker\n",
    "\n",
    "def open_nc(path,scale=1.0):  \n",
    "    ds=(xr.open_dataset(path)*scale)\n",
    "    ds=ds.assign_coords(lon=(((ds.lon + 180) % 360) - 180))\n",
    "    ds=ds.reindex(lon=sorted(ds.lon))  \n",
    "    return ds"
   ]
  },
  {
   "cell_type": "code",
   "execution_count": 2,
   "metadata": {},
   "outputs": [],
   "source": [
    "vari_ls =[\n",
    "    \"bc_a1_SRF\",\"bc_a4_SRF\",\n",
    "    \"dst_a1_SRF\",\"dst_a2_SRF\",\n",
    "    \"ncl_a1_SRF\",\"ncl_a2_SRF\",\n",
    "    \"pom_a1_SRF\",\"pom_a4_SRF\",\n",
    "    \"so4_a1_SRF\",\"so4_a2_SRF\",\n",
    "    \"soa_a1_SRF\",\"soa_a2_SRF\"\n",
    "]\n",
    "\n",
    "path = \"/data/keeling/a/zzheng25/d/mam4_paper_data/mam4_cesm_cal/\"\n",
    "save_path = \"/data/keeling/a/zzheng25/d/mam4_paper_data/chi_only/comp_analysis/\""
   ]
  },
  {
   "cell_type": "markdown",
   "metadata": {},
   "source": [
    "## For year"
   ]
  },
  {
   "cell_type": "code",
   "execution_count": 3,
   "metadata": {},
   "outputs": [
    {
     "name": "stderr",
     "output_type": "stream",
     "text": [
      "100%|██████████| 12/12 [02:44<00:00, 13.71s/it]\n",
      "100%|██████████| 12/12 [00:00<00:00, 588.83it/s]\n",
      "100%|██████████| 12/12 [00:00<00:00, 310.97it/s]\n",
      "100%|██████████| 12/12 [01:08<00:00,  5.67s/it]\n",
      "100%|██████████| 12/12 [00:00<00:00, 612.67it/s]\n",
      "100%|██████████| 12/12 [00:00<00:00, 332.47it/s]\n"
     ]
    }
   ],
   "source": [
    "for year in [\"2011\"]:\n",
    "    month_ls = []\n",
    "    for i in tqdm(range(1,13)):\n",
    "        month=str(i).zfill(2)\n",
    "        ds=xr.open_dataset(path+str(year)+\"_\"+month+\".nc\")\n",
    "        month_ls.append(ds[vari_ls].mean(dim=\"time\")\\\n",
    "                       .assign_coords(month_idx=month)\\\n",
    "                       .expand_dims('month_idx'))\n",
    "        del ds\n",
    "        gc.collect()\n",
    "\n",
    "    ds_m = xr.merge(month_ls).mean(dim=\"month_idx\")\n",
    "    del month_ls\n",
    "    gc.collect()\n",
    "\n",
    "    # create an the mass all, then calculate the percentage\n",
    "    ## create an emtpy mass all\n",
    "    ds_m[\"Mass_all\"] = xr.DataArray(np.zeros(ds_m[\"bc_a1_SRF\"].shape), \n",
    "                                    coords=[ds_m.lat, ds_m.lon], \n",
    "                                    dims=['lat', 'lon'])\n",
    "    ## add variables\n",
    "    for vari in tqdm(vari_ls):\n",
    "        ds_m[\"Mass_all\"] += ds_m[vari]\n",
    "\n",
    "    ## calculate the percentage\n",
    "    for vari in tqdm(vari_ls):\n",
    "        ds_m[vari[:-4]+\"_per\"] = ds_m[vari]/ds_m[\"Mass_all\"]*100.0\n",
    "\n",
    "\n",
    "    ds_m.to_netcdf(save_path+str(year)+\"_\"+\"year_comp.nc\")\n",
    "    del ds_m\n",
    "    gc.collect()"
   ]
  }
 ],
 "metadata": {
  "kernelspec": {
   "display_name": "Python 3",
   "language": "python",
   "name": "python3"
  },
  "language_info": {
   "codemirror_mode": {
    "name": "ipython",
    "version": 3
   },
   "file_extension": ".py",
   "mimetype": "text/x-python",
   "name": "python",
   "nbconvert_exporter": "python",
   "pygments_lexer": "ipython3",
   "version": "3.6.7"
  }
 },
 "nbformat": 4,
 "nbformat_minor": 4
}
