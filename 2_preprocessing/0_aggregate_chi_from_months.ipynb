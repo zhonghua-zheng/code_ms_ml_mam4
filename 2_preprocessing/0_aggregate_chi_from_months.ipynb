{
 "cells": [
  {
   "cell_type": "markdown",
   "metadata": {},
   "source": [
    "This script is used to aggregated the chi from different months"
   ]
  },
  {
   "cell_type": "code",
   "execution_count": 1,
   "metadata": {},
   "outputs": [],
   "source": [
    "%matplotlib inline\n",
    "import xarray as xr\n",
    "import pandas as pd\n",
    "import numpy as np\n",
    "import matplotlib.pyplot as plt\n",
    "import pickle\n",
    "import gc\n",
    "import time\n",
    "from tqdm import tqdm\n",
    "\n",
    "def workflow(path, save_path, year):\n",
    "    chi_dict = {}\n",
    "    chi_ls = [\"chi_b\",\"chi_c\",\"chi_h\"]\n",
    "    chi_dict ={}\n",
    "    for chi in chi_ls:\n",
    "        chi_dict[chi] = []\n",
    "\n",
    "    for i in tqdm(range(1,13)):\n",
    "        month=str(i).zfill(2)\n",
    "        #print(\"start the month:\",month)\n",
    "        ds = xr.open_dataset(path+str(year)+\"_\"+month+\".nc\")\n",
    "        for chi in chi_ls:\n",
    "            chi_dict[chi].append(ds[chi])\n",
    "        del ds\n",
    "        gc.collect()\n",
    "    print(\"Finished load data, start to merge data\")\n",
    "    \n",
    "    for chi in tqdm(chi_ls):\n",
    "        print(\"start to merge\",chi)\n",
    "        t0 = time.time()\n",
    "        # save ds and del list\n",
    "        ds = xr.merge(chi_dict[chi])\n",
    "        print(\"finished merge\",chi,\". It took\",time.time()-t0)\n",
    "        \n",
    "        print(\"start to save\",chi)\n",
    "        t0 = time.time()\n",
    "        ds.to_netcdf(save_path+str(year)+\"_\"+chi+\".nc\")\n",
    "        del chi_dict[chi]\n",
    "        gc.collect()\n",
    "        print(\"finished save\",chi,\". It took\",time.time()-t0)\n",
    "        \n",
    "        print(\"start to save the mean and std of\",chi)\n",
    "        # save mean and std\n",
    "        ds_mean = ds.mean(dim=\"time\")\n",
    "        ds_mean.to_netcdf(save_path+str(year)+\"_\"+chi+\"_mean.nc\")\n",
    "        ds_std = ds.std(dim=\"time\")\n",
    "        ds_std.to_netcdf(save_path+str(year)+\"_\"+chi+\"_std.nc\")\n",
    "        print(\"finished mean, std of\",chi,\". It took\",time.time()-t0)\n",
    "        \n",
    "        del ds, ds_mean, ds_std\n",
    "        gc.collect()\n",
    "        print(\"\\n\")"
   ]
  },
  {
   "cell_type": "markdown",
   "metadata": {},
   "source": [
    "## save the aggregated chi"
   ]
  },
  {
   "cell_type": "code",
   "execution_count": 2,
   "metadata": {
    "scrolled": false
   },
   "outputs": [
    {
     "name": "stderr",
     "output_type": "stream",
     "text": [
      "100%|██████████| 12/12 [00:03<00:00,  3.20it/s]\n",
      "  0%|          | 0/3 [00:00<?, ?it/s]"
     ]
    },
    {
     "name": "stdout",
     "output_type": "stream",
     "text": [
      "Finished load data, start to merge data\n",
      "start to merge chi_b\n",
      "finished merge chi_b . It took 383.46381068229675\n",
      "start to save chi_b\n",
      "finished save chi_b . It took 3.766683578491211\n",
      "start to save the mean and std of chi_b\n"
     ]
    },
    {
     "name": "stderr",
     "output_type": "stream",
     "text": [
      "\r",
      " 33%|███▎      | 1/3 [06:30<13:00, 390.37s/it]"
     ]
    },
    {
     "name": "stdout",
     "output_type": "stream",
     "text": [
      "finished mean, std of chi_b . It took 6.850441932678223\n",
      "\n",
      "\n",
      "start to merge chi_c\n",
      "finished merge chi_c . It took 251.6718237400055\n",
      "start to save chi_c\n",
      "finished save chi_c . It took 4.814077854156494\n",
      "start to save the mean and std of chi_c\n"
     ]
    },
    {
     "name": "stderr",
     "output_type": "stream",
     "text": [
      "\r",
      " 67%|██████▋   | 2/3 [10:50<05:51, 351.26s/it]"
     ]
    },
    {
     "name": "stdout",
     "output_type": "stream",
     "text": [
      "finished mean, std of chi_c . It took 8.214295387268066\n",
      "\n",
      "\n",
      "start to merge chi_h\n",
      "finished merge chi_h . It took 71.93686389923096\n",
      "start to save chi_h\n",
      "finished save chi_h . It took 4.369882106781006\n",
      "start to save the mean and std of chi_h\n"
     ]
    },
    {
     "name": "stderr",
     "output_type": "stream",
     "text": [
      "100%|██████████| 3/3 [12:10<00:00, 243.34s/it]\n",
      "  0%|          | 0/12 [00:00<?, ?it/s]"
     ]
    },
    {
     "name": "stdout",
     "output_type": "stream",
     "text": [
      "finished mean, std of chi_h . It took 7.639942646026611\n",
      "\n",
      "\n"
     ]
    },
    {
     "name": "stderr",
     "output_type": "stream",
     "text": [
      "100%|██████████| 12/12 [00:02<00:00,  4.61it/s]\n",
      "  0%|          | 0/3 [00:00<?, ?it/s]"
     ]
    },
    {
     "name": "stdout",
     "output_type": "stream",
     "text": [
      "Finished load data, start to merge data\n",
      "start to merge chi_b\n",
      "finished merge chi_b . It took 23.45857071876526\n",
      "start to save chi_b\n",
      "finished save chi_b . It took 1.9912714958190918\n",
      "start to save the mean and std of chi_b\n"
     ]
    },
    {
     "name": "stderr",
     "output_type": "stream",
     "text": [
      "\r",
      " 33%|███▎      | 1/3 [00:27<00:54, 27.43s/it]"
     ]
    },
    {
     "name": "stdout",
     "output_type": "stream",
     "text": [
      "finished mean, std of chi_b . It took 3.861482858657837\n",
      "\n",
      "\n",
      "start to merge chi_c\n",
      "finished merge chi_c . It took 24.980205297470093\n",
      "start to save chi_c\n",
      "finished save chi_c . It took 2.0180394649505615\n",
      "start to save the mean and std of chi_c\n"
     ]
    },
    {
     "name": "stderr",
     "output_type": "stream",
     "text": [
      "\r",
      " 67%|██████▋   | 2/3 [00:56<00:27, 27.96s/it]"
     ]
    },
    {
     "name": "stdout",
     "output_type": "stream",
     "text": [
      "finished mean, std of chi_c . It took 4.152737617492676\n",
      "\n",
      "\n",
      "start to merge chi_h\n",
      "finished merge chi_h . It took 23.365269660949707\n",
      "start to save chi_h\n",
      "finished save chi_h . It took 1.8340437412261963\n",
      "start to save the mean and std of chi_h\n"
     ]
    },
    {
     "name": "stderr",
     "output_type": "stream",
     "text": [
      "100%|██████████| 3/3 [01:23<00:00, 27.90s/it]"
     ]
    },
    {
     "name": "stdout",
     "output_type": "stream",
     "text": [
      "finished mean, std of chi_h . It took 3.6470909118652344\n",
      "\n",
      "\n"
     ]
    },
    {
     "name": "stderr",
     "output_type": "stream",
     "text": [
      "\n"
     ]
    }
   ],
   "source": [
    "year = \"2011\"\n",
    "# define the path and save path for mam4\n",
    "mam4_path = \"/data/keeling/a/zzheng25/d/mam4_paper_data/mam4_cesm_cal/\"\n",
    "mam4_save_path = \"/data/keeling/a/zzheng25/d/mam4_paper_data/chi_only/mam4_chi/\"\n",
    "#mam4\n",
    "workflow(mam4_path, mam4_save_path, year)\n",
    "\n",
    "# define the path and save path for ml\n",
    "ml_path = \"/data/keeling/a/zzheng25/d/mam4_paper_data/mam4_cesm_pred/\"\n",
    "ml_save_path = \"/data/keeling/a/zzheng25/d/mam4_paper_data/chi_only/ml_chi/\"\n",
    "#ml\n",
    "workflow(ml_path, ml_save_path, year)"
   ]
  },
  {
   "cell_type": "markdown",
   "metadata": {},
   "source": [
    "## calculate difference "
   ]
  },
  {
   "cell_type": "code",
   "execution_count": 3,
   "metadata": {},
   "outputs": [
    {
     "name": "stderr",
     "output_type": "stream",
     "text": [
      "\r",
      "  0%|          | 0/3 [00:00<?, ?it/s]"
     ]
    },
    {
     "name": "stdout",
     "output_type": "stream",
     "text": [
      "start to calculate chi_b\n",
      "finished calculating chi_b . It took 4.8456597328186035\n",
      "start to save chi_b\n",
      "finished save chi_b . It took 3.839881181716919\n",
      "start to save the mean, std, and SNR of chi_b\n"
     ]
    },
    {
     "name": "stderr",
     "output_type": "stream",
     "text": [
      "\r",
      " 33%|███▎      | 1/3 [00:13<00:27, 13.54s/it]"
     ]
    },
    {
     "name": "stdout",
     "output_type": "stream",
     "text": [
      "finished mean, std, SNR of chi_b . It took 8.629901885986328\n",
      "\n",
      "\n",
      "start to calculate chi_c\n",
      "finished calculating chi_c . It took 5.105469465255737\n",
      "start to save chi_c\n",
      "finished save chi_c . It took 3.3622400760650635\n",
      "start to save the mean, std, and SNR of chi_c\n"
     ]
    },
    {
     "name": "stderr",
     "output_type": "stream",
     "text": [
      "\r",
      " 67%|██████▋   | 2/3 [00:26<00:13, 13.46s/it]"
     ]
    },
    {
     "name": "stdout",
     "output_type": "stream",
     "text": [
      "finished mean, std, SNR of chi_c . It took 8.099879264831543\n",
      "\n",
      "\n",
      "start to calculate chi_h\n",
      "finished calculating chi_h . It took 4.564489364624023\n",
      "start to save chi_h\n",
      "finished save chi_h . It took 3.8550920486450195\n",
      "start to save the mean, std, and SNR of chi_h\n"
     ]
    },
    {
     "name": "stderr",
     "output_type": "stream",
     "text": [
      "100%|██████████| 3/3 [00:39<00:00, 13.33s/it]"
     ]
    },
    {
     "name": "stdout",
     "output_type": "stream",
     "text": [
      "finished mean, std, SNR of chi_h . It took 8.554002523422241\n",
      "\n",
      "\n"
     ]
    },
    {
     "name": "stderr",
     "output_type": "stream",
     "text": [
      "\n"
     ]
    }
   ],
   "source": [
    "year = \"2011\"\n",
    "mam4_path = \"/data/keeling/a/zzheng25/d/mam4_paper_data/chi_only/mam4_chi/\"\n",
    "ml_path = \"/data/keeling/a/zzheng25/d/mam4_paper_data/chi_only/ml_chi/\"\n",
    "save_path = \"/data/keeling/a/zzheng25/d/mam4_paper_data/chi_only/mam4_minus_ml_chi/\"\n",
    "\n",
    "chi_ls = [\"chi_b\",\"chi_c\",\"chi_h\"]\n",
    "\n",
    "for chi in tqdm(chi_ls):\n",
    "    print(\"start to calculate\",chi)\n",
    "    t0 = time.time()\n",
    "    # load the ds_mam4 and ds_ml\n",
    "    ds_mam4 = xr.open_dataset(mam4_path+str(year)+\"_\"+chi+\".nc\")\n",
    "    ds_ml = xr.open_dataset(ml_path+str(year)+\"_\"+chi+\".nc\")\n",
    "    ds = ds_mam4-ds_ml\n",
    "    del ds_mam4, ds_ml\n",
    "    gc.collect()\n",
    "    print(\"finished calculating\",chi,\". It took\",time.time()-t0)\n",
    "\n",
    "    print(\"start to save\",chi)\n",
    "    t0 = time.time()\n",
    "    ds.to_netcdf(save_path+str(year)+\"_\"+chi+\".nc\")\n",
    "    print(\"finished save\",chi,\". It took\",time.time()-t0)\n",
    "\n",
    "    print(\"start to save the mean, std, and SNR of\",chi)\n",
    "    # save mean and std\n",
    "    ds_mean = ds.mean(dim=\"time\")\n",
    "    ds_mean.to_netcdf(save_path+str(year)+\"_\"+chi+\"_mean.nc\")\n",
    "    ds_mean_abs = np.abs(ds).mean(dim=\"time\")\n",
    "    ds_mean_abs.to_netcdf(save_path+str(year)+\"_\"+chi+\"_mean_abs.nc\")\n",
    "    ds_std = ds.std(dim=\"time\")\n",
    "    ds_std.to_netcdf(save_path+str(year)+\"_\"+chi+\"_std.nc\")\n",
    "    ds_SNR = np.abs(ds_mean)/ds_std\n",
    "    ds_SNR.to_netcdf(save_path+str(year)+\"_\"+chi+\"_snr.nc\")\n",
    "    print(\"finished mean, std, SNR of\",chi,\". It took\",time.time()-t0)\n",
    "\n",
    "    del ds, ds_mean, ds_std\n",
    "    gc.collect()\n",
    "    print(\"\\n\")"
   ]
  }
 ],
 "metadata": {
  "kernelspec": {
   "display_name": "Python 3",
   "language": "python",
   "name": "python3"
  },
  "language_info": {
   "codemirror_mode": {
    "name": "ipython",
    "version": 3
   },
   "file_extension": ".py",
   "mimetype": "text/x-python",
   "name": "python",
   "nbconvert_exporter": "python",
   "pygments_lexer": "ipython3",
   "version": "3.6.7"
  }
 },
 "nbformat": 4,
 "nbformat_minor": 4
}
