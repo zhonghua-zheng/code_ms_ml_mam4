{
 "cells": [
  {
   "cell_type": "code",
   "execution_count": 1,
   "metadata": {},
   "outputs": [
    {
     "name": "stderr",
     "output_type": "stream",
     "text": [
      "/glade/work/zhonghua/personal_clone_name/lib/python3.6/site-packages/dask/dataframe/utils.py:15: FutureWarning: pandas.util.testing is deprecated. Use the functions in the public API at pandas.testing instead.\n",
      "  import pandas.util.testing as tm\n"
     ]
    },
    {
     "name": "stdout",
     "output_type": "stream",
     "text": [
      "XGBoost version: 1.1.1\n"
     ]
    }
   ],
   "source": [
    "import xarray as xr\n",
    "import pandas as pd\n",
    "import numpy as np\n",
    "import matplotlib.pyplot as plt\n",
    "from tqdm import tqdm\n",
    "import pickle\n",
    "import gc\n",
    "import time\n",
    "import xgboost\n",
    "print(\"XGBoost version:\",xgboost.__version__)"
   ]
  },
  {
   "cell_type": "code",
   "execution_count": 2,
   "metadata": {},
   "outputs": [],
   "source": [
    "# get the dataframe work raw nc data\n",
    "def get_df(file, vari):\n",
    "    file = path+year+\"_\"+month+\".nc\"\n",
    "    ds = xr.open_dataset(file)\n",
    "    da_dict = {}\n",
    "    # T\n",
    "    da_dict[\"T\"] = ds[\"T\"].isel(lev =-1).drop([\"lev\"],axis=1)\n",
    "    # RELUHM \n",
    "    RH = ds[\"RELHUM\"].isel(lev =-1).drop([\"lev\"],axis=1)/100.0\n",
    "    da_dict[\"RELHUM\"] = xr.where(RH <= 1, RH, 1)\n",
    "    # merge T and RELUHM\n",
    "    ds_f = xr.merge([da_dict[\"T\"],da_dict[\"RELHUM\"]])\n",
    "    del RH, da_dict \n",
    "    gc.collect()\n",
    "\n",
    "    # SZA\n",
    "    ds_f[\"SZA\"] = np.radians(ds.SZA)\n",
    "    # O3\n",
    "    ds_f[\"O3_SRF\"] = ds[\"O3\"].isel(lev=-1)*1.0e9\n",
    "\n",
    "    # gas in ppb\n",
    "    for gas in ['SOAG_SRF','DMS_SRF','H2SO4_SRF','H2O2_SRF','SO2_SRF']:\n",
    "        ds_f[gas] = ds[gas]*1.0e9\n",
    "\n",
    "    # density and get aerosol in ug/m3\n",
    "    ds_f[\"RHO_CLUBB\"] = ds[\"RHO_CLUBB\"].isel(ilev=-1)\n",
    "    ds_f['Mass_bc']=(ds['bc_a1_SRF']+ds['bc_a4_SRF'])*ds_f[\"RHO_CLUBB\"]*1.0e9\n",
    "    ds_f['Mass_dst']=(ds['dst_a1_SRF']+ds['dst_a2_SRF'])*ds_f[\"RHO_CLUBB\"]*1.0e9\n",
    "    ds_f['Mass_ncl']=(ds['ncl_a1_SRF']+ds['ncl_a2_SRF'])*ds_f[\"RHO_CLUBB\"]*1.0e9\n",
    "    ds_f['Mass_pom']=(ds['pom_a1_SRF']+ds['pom_a4_SRF'])*ds_f[\"RHO_CLUBB\"]*1.0e9\n",
    "    ds_f['Mass_so4']=(ds['so4_a1_SRF']+ds['so4_a2_SRF'])*ds_f[\"RHO_CLUBB\"]*1.0e9\n",
    "    ds_f['Mass_soa']=(ds['soa_a1_SRF']+ds['soa_a2_SRF'])*ds_f[\"RHO_CLUBB\"]*1.0e9\n",
    "\n",
    "    # drop density\n",
    "    ds_f = ds_f.drop([\"RHO_CLUBB\"])\n",
    "    \n",
    "    # convert to dataframe\n",
    "    df = ds_f.to_dataframe().reset_index()[[\"lat\",\"lon\",\"time\"]+vari]\n",
    "    \n",
    "    return df\n",
    "\n",
    "# apply the ML and return to netcdf\n",
    "def predict_chi_ls(df, vari, chi_ls):\n",
    "    df_copy = df.copy()\n",
    "    for chi in chi_ls:\n",
    "        XGBreg_load=pickle.load(open(\"./xgb_model/\"+chi+\".dat\",\"rb\"))\n",
    "        print(\"start to get\",chi)\n",
    "        time_s=time.time()\n",
    "        df_copy[chi]=XGBreg_load.predict(df[vari])\n",
    "        \n",
    "        print(\"before clip\")\n",
    "        print(\"min:\",float(df_copy[chi].min()),\",max:\",float(df_copy[chi].max()))\n",
    "        print(\"after clip\") \n",
    "        df_copy[chi]=df_copy[chi].clip(0,1)\n",
    "        print(\"min:\",float(df_copy[chi].min()),\",max:\",float(df_copy[chi].max()))\n",
    "                                         \n",
    "        print(\"It took\",time.time()-time_s,\"to get chi \\n\")\n",
    "        del XGBreg_load\n",
    "        gc.collect()\n",
    "    \n",
    "    time_s=time.time()\n",
    "    df_xr = df_copy.set_index([\"time\",\"lat\",\"lon\"]).to_xarray()\n",
    "    print(\"It took\",time.time()-time_s,\"to get dataset\")\n",
    "    \n",
    "    return df_xr"
   ]
  },
  {
   "cell_type": "code",
   "execution_count": null,
   "metadata": {},
   "outputs": [],
   "source": [
    "path = \"/glade/scratch/zhonghua/mam4_cesm_raw/\"\n",
    "save_path=\"/glade/scratch/zhonghua/mam4_cesm_pred/\"\n",
    "chi_ls = [\"chi_b\",\"chi_c\",\"chi_h\"]\n",
    "vari = [\"DMS_SRF\",\"H2O2_SRF\",\"H2SO4_SRF\",\"O3_SRF\",\"SO2_SRF\",\"SOAG_SRF\",\n",
    "        'Mass_so4','Mass_bc','Mass_ncl','Mass_dst','Mass_pom','Mass_soa',\n",
    "        \"T\", \"RELHUM\", \"SZA\"]\n",
    "\n",
    "for year in [\"2011\"]:\n",
    "    print(\"start year:\",year)\n",
    "    for i in tqdm(range(1,13)):\n",
    "        month=str(i).zfill(2)\n",
    "        print(\"start the month:\",month)\n",
    "        file = path+year+\"_\"+month+\".nc\"\n",
    "        df = get_df(file,vari)\n",
    "        print(\"The shape is:\", df.shape)\n",
    "        df_pred = predict_chi_ls(df, vari, chi_ls)\n",
    "        df_pred.to_netcdf(save_path+year+\"_\"+month+\".nc\")\n",
    "        \n",
    "        del df, df_pred\n",
    "        gc.collect()\n",
    "        print(\"\\n\")\n",
    "    print(\"\\n\")"
   ]
  }
 ],
 "metadata": {
  "kernelspec": {
   "display_name": "Python 3",
   "language": "python",
   "name": "python3"
  },
  "language_info": {
   "codemirror_mode": {
    "name": "ipython",
    "version": 3
   },
   "file_extension": ".py",
   "mimetype": "text/x-python",
   "name": "python",
   "nbconvert_exporter": "python",
   "pygments_lexer": "ipython3",
   "version": "3.6.7"
  }
 },
 "nbformat": 4,
 "nbformat_minor": 4
}
